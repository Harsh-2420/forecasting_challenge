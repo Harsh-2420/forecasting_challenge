{
 "cells": [
  {
   "cell_type": "code",
   "execution_count": null,
   "metadata": {},
   "outputs": [],
   "source": [
    "import pandas as pd\n",
    "import numpy as np\n",
    "import seaborn as sns\n",
    "import matplotlib.pyplot as plt"
   ]
  },
  {
   "cell_type": "code",
   "execution_count": 28,
   "metadata": {},
   "outputs": [
    {
     "data": {
      "text/html": [
       "<div>\n",
       "<style scoped>\n",
       "    .dataframe tbody tr th:only-of-type {\n",
       "        vertical-align: middle;\n",
       "    }\n",
       "\n",
       "    .dataframe tbody tr th {\n",
       "        vertical-align: top;\n",
       "    }\n",
       "\n",
       "    .dataframe thead th {\n",
       "        text-align: right;\n",
       "    }\n",
       "</style>\n",
       "<table border=\"1\" class=\"dataframe\">\n",
       "  <thead>\n",
       "    <tr style=\"text-align: right;\">\n",
       "      <th></th>\n",
       "      <th>store</th>\n",
       "      <th>item</th>\n",
       "      <th>sales</th>\n",
       "      <th>year</th>\n",
       "      <th>month</th>\n",
       "    </tr>\n",
       "    <tr>\n",
       "      <th>date</th>\n",
       "      <th></th>\n",
       "      <th></th>\n",
       "      <th></th>\n",
       "      <th></th>\n",
       "      <th></th>\n",
       "    </tr>\n",
       "  </thead>\n",
       "  <tbody>\n",
       "    <tr>\n",
       "      <th>2013-01-01</th>\n",
       "      <td>1</td>\n",
       "      <td>1</td>\n",
       "      <td>13</td>\n",
       "      <td>2013</td>\n",
       "      <td>1</td>\n",
       "    </tr>\n",
       "    <tr>\n",
       "      <th>2013-01-02</th>\n",
       "      <td>1</td>\n",
       "      <td>1</td>\n",
       "      <td>11</td>\n",
       "      <td>2013</td>\n",
       "      <td>1</td>\n",
       "    </tr>\n",
       "    <tr>\n",
       "      <th>2013-01-03</th>\n",
       "      <td>1</td>\n",
       "      <td>1</td>\n",
       "      <td>14</td>\n",
       "      <td>2013</td>\n",
       "      <td>1</td>\n",
       "    </tr>\n",
       "    <tr>\n",
       "      <th>2013-01-04</th>\n",
       "      <td>1</td>\n",
       "      <td>1</td>\n",
       "      <td>13</td>\n",
       "      <td>2013</td>\n",
       "      <td>1</td>\n",
       "    </tr>\n",
       "    <tr>\n",
       "      <th>2013-01-05</th>\n",
       "      <td>1</td>\n",
       "      <td>1</td>\n",
       "      <td>10</td>\n",
       "      <td>2013</td>\n",
       "      <td>1</td>\n",
       "    </tr>\n",
       "    <tr>\n",
       "      <th>...</th>\n",
       "      <td>...</td>\n",
       "      <td>...</td>\n",
       "      <td>...</td>\n",
       "      <td>...</td>\n",
       "      <td>...</td>\n",
       "    </tr>\n",
       "    <tr>\n",
       "      <th>2017-12-27</th>\n",
       "      <td>10</td>\n",
       "      <td>50</td>\n",
       "      <td>63</td>\n",
       "      <td>2017</td>\n",
       "      <td>12</td>\n",
       "    </tr>\n",
       "    <tr>\n",
       "      <th>2017-12-28</th>\n",
       "      <td>10</td>\n",
       "      <td>50</td>\n",
       "      <td>59</td>\n",
       "      <td>2017</td>\n",
       "      <td>12</td>\n",
       "    </tr>\n",
       "    <tr>\n",
       "      <th>2017-12-29</th>\n",
       "      <td>10</td>\n",
       "      <td>50</td>\n",
       "      <td>74</td>\n",
       "      <td>2017</td>\n",
       "      <td>12</td>\n",
       "    </tr>\n",
       "    <tr>\n",
       "      <th>2017-12-30</th>\n",
       "      <td>10</td>\n",
       "      <td>50</td>\n",
       "      <td>62</td>\n",
       "      <td>2017</td>\n",
       "      <td>12</td>\n",
       "    </tr>\n",
       "    <tr>\n",
       "      <th>2017-12-31</th>\n",
       "      <td>10</td>\n",
       "      <td>50</td>\n",
       "      <td>82</td>\n",
       "      <td>2017</td>\n",
       "      <td>12</td>\n",
       "    </tr>\n",
       "  </tbody>\n",
       "</table>\n",
       "<p>913000 rows × 5 columns</p>\n",
       "</div>"
      ],
      "text/plain": [
       "            store  item  sales  year  month\n",
       "date                                       \n",
       "2013-01-01      1     1     13  2013      1\n",
       "2013-01-02      1     1     11  2013      1\n",
       "2013-01-03      1     1     14  2013      1\n",
       "2013-01-04      1     1     13  2013      1\n",
       "2013-01-05      1     1     10  2013      1\n",
       "...           ...   ...    ...   ...    ...\n",
       "2017-12-27     10    50     63  2017     12\n",
       "2017-12-28     10    50     59  2017     12\n",
       "2017-12-29     10    50     74  2017     12\n",
       "2017-12-30     10    50     62  2017     12\n",
       "2017-12-31     10    50     82  2017     12\n",
       "\n",
       "[913000 rows x 5 columns]"
      ]
     },
     "execution_count": 28,
     "metadata": {},
     "output_type": "execute_result"
    }
   ],
   "source": [
    "train_df = pd.read_csv('/Users/harshjhunjhunwala/Desktop/github_datasets/forecasting_challenge/train.csv')\n",
    "test_df = pd.read_csv('/Users/harshjhunjhunwala/Desktop/github_datasets/forecasting_challenge/test.csv')\n",
    "\n",
    "# Extracting the year and month and creating new columns\n",
    "train_df['year'] = pd.DatetimeIndex(train_df['date']).year\n",
    "train_df['month'] = pd.DatetimeIndex(train_df['date']).month\n",
    "\n",
    "# Setting date as the index\n",
    "test_df.set_index('date', inplace=True)\n",
    "train_df.set_index('date', inplace=True)\n",
    "\n",
    "train_df"
   ]
  },
  {
   "cell_type": "code",
   "execution_count": 21,
   "metadata": {},
   "outputs": [],
   "source": [
    "store_1_df = train_df[train_df['store'] == 1]['sales'].sort_index(ascending=True)\n",
    "store_2_df = train_df[train_df['store'] == 2]['sales'].sort_index(ascending=True)\n",
    "store_3_df = train_df[train_df['store'] == 3]['sales'].sort_index(ascending=True)\n",
    "store_4_df = train_df[train_df['store'] == 4]['sales'].sort_index(ascending=True)"
   ]
  },
  {
   "cell_type": "code",
   "execution_count": 37,
   "metadata": {},
   "outputs": [
    {
     "data": {
      "text/plain": [
       "[<matplotlib.lines.Line2D at 0x125047b10>,\n",
       " <matplotlib.lines.Line2D at 0x125047d10>,\n",
       " <matplotlib.lines.Line2D at 0x125047ed0>,\n",
       " <matplotlib.lines.Line2D at 0x1250520d0>,\n",
       " <matplotlib.lines.Line2D at 0x125052290>,\n",
       " <matplotlib.lines.Line2D at 0x125052450>,\n",
       " <matplotlib.lines.Line2D at 0x125052690>,\n",
       " <matplotlib.lines.Line2D at 0x125052850>,\n",
       " <matplotlib.lines.Line2D at 0x125052a10>,\n",
       " <matplotlib.lines.Line2D at 0x125052490>]"
      ]
     },
     "execution_count": 37,
     "metadata": {},
     "output_type": "execute_result"
    },
    {
     "data": {
      "image/png": "[encoded data removed]",
      "text/plain": [
       "<Figure size 864x504 with 1 Axes>"
      ]
     },
     "metadata": {
      "needs_background": "light"
     },
     "output_type": "display_data"
    }
   ],
   "source": [
    "# aggregate of item sales categorized by year\n",
    "agg_item = pd.pivot_table(train_df, index='year', columns='item',\n",
    "                               values='sales', aggfunc=np.mean).values\n",
    "\n",
    "# aggregate of store sales categorized by year\n",
    "agg_store = pd.pivot_table(train_df, index='year', columns='store',\n",
    "                               values='sales', aggfunc=np.mean).values\n",
    "\n",
    "agg_month_item = pd.pivot_table(train_df, index='month', columns='item',\n",
    "                               values='sales', aggfunc=np.mean).values\n",
    "\n",
    "agg_month_store = pd.pivot_table(train_df, index='month', columns='store',\n",
    "                               values='sales', aggfunc=np.mean).values\n",
    "\n",
    "plt.figure(figsize=(12, 7))\n",
    "plt.subplot(121)\n",
    "plt.plot(agg_month_store/agg_month_store.mean(0))"
   ]
  },
  {
   "cell_type": "code",
   "execution_count": 38,
   "metadata": {},
   "outputs": [],
   "source": [
    "# We see that sales rise in the middle months and are down in the beginning and the ending months and this trend continues every year"
   ]
  },
  {
   "cell_type": "code",
   "execution_count": 39,
   "metadata": {},
   "outputs": [],
   "source": [
    "# Display sales trend over the years!! Not using tensorflow to predict and creating a simple prediction model instead..."
   ]
  },
  {
   "cell_type": "code",
   "execution_count": null,
   "metadata": {},
   "outputs": [],
   "source": []
  }
 ],
 "metadata": {
  "kernelspec": {
   "display_name": "Python 3",
   "language": "python",
   "name": "python3"
  },
  "language_info": {
   "codemirror_mode": {
    "name": "ipython",
    "version": 3
   },
   "file_extension": ".py",
   "mimetype": "text/x-python",
   "name": "python",
   "nbconvert_exporter": "python",
   "pygments_lexer": "ipython3",
   "version": "3.7.5"
  }
 },
 "nbformat": 4,
 "nbformat_minor": 2
}
